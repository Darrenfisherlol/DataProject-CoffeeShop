{
 "cells": [
  {
   "cell_type": "code",
   "execution_count": 76,
   "metadata": {},
   "outputs": [],
   "source": [
    "import pandas\n",
    "import random\n",
    "import os\n",
    "import json\n",
    "import numpy as np\n",
    "from datetime import datetime\n",
    "\n",
    "# How much data do we want to make?\n",
    "ROWCOUNT = 1000"
   ]
  },
  {
   "cell_type": "markdown",
   "metadata": {},
   "source": [
    "## Part 1"
   ]
  },
  {
   "cell_type": "markdown",
   "metadata": {},
   "source": [
    "### Customer"
   ]
  },
  {
   "cell_type": "code",
   "execution_count": 77,
   "metadata": {},
   "outputs": [],
   "source": [
    "custFileName = \"nameList1000.txt\"\n",
    "\n",
    "ROOT = os.path.dirname(os.getcwd()) + '/resource/' + custFileName\n",
    "\n",
    "first_names = []\n",
    "last_names = []\n",
    "\n",
    "with open(ROOT, 'r') as file:\n",
    "    rawnames = file.read().split('\\n')\n",
    "\n",
    "for name in rawnames:\n",
    "    first_names.append(name[:name.find(' ')])\n",
    "    last_names.append(name[1+name.find(' '):])"
   ]
  },
  {
   "cell_type": "code",
   "execution_count": 78,
   "metadata": {},
   "outputs": [],
   "source": [
    "'''\n",
    "--\n",
    "-- given list of 1st and 2nd names\n",
    "-- randomize them and duplicate them randomly for repeat customers\n",
    "--\n",
    "'''\n",
    "\n",
    "# Create a list to hold all names\n",
    "names = []\n",
    "\n",
    "# Generate unique names (50% of 4000 = 2000 unique names)\n",
    "for index in range(2000):\n",
    "    first = random.choice(first_names)\n",
    "    last = random.choice(last_names)\n",
    "    name = f\"{first} {last}\"\n",
    "    names.append(name)\n",
    "\n",
    "# Generate repeated names (remaining 50% will be repeats 5-10 times)\n",
    "for index in range(ROWCOUNT):  # Need 1000 more distinct names, each repeating 5-10 times\n",
    "    first = random.choice(first_names)\n",
    "    last = random.choice(last_names)\n",
    "    name = f\"{first} {last}\"\n",
    "    repeat_count = random.randint(5, 10)  # Repeat each name 5 to 10 times\n",
    "    names.extend([name] * repeat_count)\n",
    "\n",
    "# Shuffle the final list to mix unique and repeated names\n",
    "random.shuffle(names)\n",
    "\n",
    "# Ensure the list is exactly 1000 names\n",
    "names = names[:ROWCOUNT]\n",
    "\n",
    "# Convert the list to a single line with commas separating each name\n",
    "# result = \", \".join(names)"
   ]
  },
  {
   "cell_type": "code",
   "execution_count": 79,
   "metadata": {},
   "outputs": [
    {
     "data": {
      "text/html": [
       "<div>\n",
       "<style scoped>\n",
       "    .dataframe tbody tr th:only-of-type {\n",
       "        vertical-align: middle;\n",
       "    }\n",
       "\n",
       "    .dataframe tbody tr th {\n",
       "        vertical-align: top;\n",
       "    }\n",
       "\n",
       "    .dataframe thead th {\n",
       "        text-align: right;\n",
       "    }\n",
       "</style>\n",
       "<table border=\"1\" class=\"dataframe\">\n",
       "  <thead>\n",
       "    <tr style=\"text-align: right;\">\n",
       "      <th></th>\n",
       "      <th>First</th>\n",
       "      <th>Last</th>\n",
       "    </tr>\n",
       "  </thead>\n",
       "  <tbody>\n",
       "    <tr>\n",
       "      <th>0</th>\n",
       "      <td>Anna</td>\n",
       "      <td>Patel</td>\n",
       "    </tr>\n",
       "    <tr>\n",
       "      <th>1</th>\n",
       "      <td>Adeline</td>\n",
       "      <td>Foster</td>\n",
       "    </tr>\n",
       "    <tr>\n",
       "      <th>2</th>\n",
       "      <td>Nevaeh</td>\n",
       "      <td>Taylor</td>\n",
       "    </tr>\n",
       "    <tr>\n",
       "      <th>3</th>\n",
       "      <td>Nevaeh</td>\n",
       "      <td>Turner</td>\n",
       "    </tr>\n",
       "    <tr>\n",
       "      <th>4</th>\n",
       "      <td>Sarah</td>\n",
       "      <td>Howard</td>\n",
       "    </tr>\n",
       "    <tr>\n",
       "      <th>...</th>\n",
       "      <td>...</td>\n",
       "      <td>...</td>\n",
       "    </tr>\n",
       "    <tr>\n",
       "      <th>995</th>\n",
       "      <td>Scarlett</td>\n",
       "      <td>Jones</td>\n",
       "    </tr>\n",
       "    <tr>\n",
       "      <th>996</th>\n",
       "      <td>Genesis</td>\n",
       "      <td>Cox</td>\n",
       "    </tr>\n",
       "    <tr>\n",
       "      <th>997</th>\n",
       "      <td>Isla</td>\n",
       "      <td>Flores</td>\n",
       "    </tr>\n",
       "    <tr>\n",
       "      <th>998</th>\n",
       "      <td>Sarah</td>\n",
       "      <td>Perez</td>\n",
       "    </tr>\n",
       "    <tr>\n",
       "      <th>999</th>\n",
       "      <td>Maria</td>\n",
       "      <td>Torres</td>\n",
       "    </tr>\n",
       "  </tbody>\n",
       "</table>\n",
       "<p>1000 rows × 2 columns</p>\n",
       "</div>"
      ],
      "text/plain": [
       "        First    Last\n",
       "0        Anna   Patel\n",
       "1     Adeline  Foster\n",
       "2      Nevaeh  Taylor\n",
       "3      Nevaeh  Turner\n",
       "4       Sarah  Howard\n",
       "..        ...     ...\n",
       "995  Scarlett   Jones\n",
       "996   Genesis     Cox\n",
       "997      Isla  Flores\n",
       "998     Sarah   Perez\n",
       "999     Maria  Torres\n",
       "\n",
       "[1000 rows x 2 columns]"
      ]
     },
     "execution_count": 79,
     "metadata": {},
     "output_type": "execute_result"
    }
   ],
   "source": [
    "'''\n",
    "--\n",
    "-- DF to pandas\n",
    "--\n",
    "'''\n",
    "customerDict = {}\n",
    "first_names = []\n",
    "last_names = []\n",
    "\n",
    "for name in names:\n",
    "    first_names.append(name[:name.find(' ')])\n",
    "    last_names.append(name[1+name.find(' '):])\n",
    "\n",
    "customerDict[\"First\"] = first_names\n",
    "customerDict[\"Last\"] = last_names\n",
    "\n",
    "customerDF = pandas.DataFrame.from_dict(data=customerDict)\n",
    "customerDF\n"
   ]
  },
  {
   "cell_type": "markdown",
   "metadata": {},
   "source": [
    "### Store"
   ]
  },
  {
   "cell_type": "code",
   "execution_count": 80,
   "metadata": {},
   "outputs": [
    {
     "data": {
      "text/html": [
       "<div>\n",
       "<style scoped>\n",
       "    .dataframe tbody tr th:only-of-type {\n",
       "        vertical-align: middle;\n",
       "    }\n",
       "\n",
       "    .dataframe tbody tr th {\n",
       "        vertical-align: top;\n",
       "    }\n",
       "\n",
       "    .dataframe thead th {\n",
       "        text-align: right;\n",
       "    }\n",
       "</style>\n",
       "<table border=\"1\" class=\"dataframe\">\n",
       "  <thead>\n",
       "    <tr style=\"text-align: right;\">\n",
       "      <th></th>\n",
       "      <th>Name</th>\n",
       "      <th>Address</th>\n",
       "      <th>City</th>\n",
       "      <th>Texas</th>\n",
       "      <th>Zip Code</th>\n",
       "    </tr>\n",
       "  </thead>\n",
       "  <tbody>\n",
       "    <tr>\n",
       "      <th>0</th>\n",
       "      <td>South Austin Drive</td>\n",
       "      <td>102 South Austin Drive</td>\n",
       "      <td>Austin</td>\n",
       "      <td>Texas</td>\n",
       "      <td>72034</td>\n",
       "    </tr>\n",
       "    <tr>\n",
       "      <th>1</th>\n",
       "      <td>Western Drive</td>\n",
       "      <td>111 Western Drive</td>\n",
       "      <td>Houston</td>\n",
       "      <td>Texas</td>\n",
       "      <td>99345</td>\n",
       "    </tr>\n",
       "    <tr>\n",
       "      <th>2</th>\n",
       "      <td>North Lake</td>\n",
       "      <td>880 North Lake Drive</td>\n",
       "      <td>Dallas</td>\n",
       "      <td>Texas</td>\n",
       "      <td>14783</td>\n",
       "    </tr>\n",
       "  </tbody>\n",
       "</table>\n",
       "</div>"
      ],
      "text/plain": [
       "                 Name                 Address     City  Texas Zip Code\n",
       "0  South Austin Drive  102 South Austin Drive   Austin  Texas    72034\n",
       "1       Western Drive       111 Western Drive  Houston  Texas    99345\n",
       "2          North Lake    880 North Lake Drive   Dallas  Texas    14783"
      ]
     },
     "execution_count": 80,
     "metadata": {},
     "output_type": "execute_result"
    }
   ],
   "source": [
    "generateData = \"genData.json\"\n",
    "\n",
    "ROOT = os.path.dirname(os.getcwd()) + '/resource/' + generateData\n",
    "\n",
    "storeDict = {}\n",
    "\n",
    "with open(ROOT, 'r') as file:\n",
    "    data = json.load(file)\n",
    "    data = data[\"Store\"]\n",
    "\n",
    "listAdd = []\n",
    "for dict in data:\n",
    "    listAdd.append(data[dict])\n",
    "\n",
    "    \n",
    "storeDf = pandas.DataFrame.from_records(listAdd)\n",
    "storeDf"
   ]
  },
  {
   "cell_type": "markdown",
   "metadata": {},
   "source": [
    "### Employee"
   ]
  },
  {
   "cell_type": "code",
   "execution_count": 81,
   "metadata": {},
   "outputs": [],
   "source": [
    "generateData = \"genData.json\"\n",
    "\n",
    "ROOT = os.path.dirname(os.getcwd()) + '/resource/' + generateData\n",
    "\n",
    "with open(ROOT, 'r') as file:\n",
    "    data = json.load(file)\n",
    "    data = data[\"Employee\"]\n",
    "\n",
    "# get each stores employees\n",
    "stores = []\n",
    "for store in data:\n",
    "    stores.append(data[store])\n"
   ]
  },
  {
   "cell_type": "code",
   "execution_count": 82,
   "metadata": {},
   "outputs": [],
   "source": [
    "'''\n",
    "{'one': {'EmployeeID': '1', 'ManagerID': 'Null', 'FirstName': 'Tom', 'LastName': 'Bates', 'StoreID': '1'}, 'two': {\n",
    "'''\n",
    "\n",
    "\n",
    "df = pandas.DataFrame(stores[0]).T\n",
    "stores.pop(0)\n",
    "\n",
    "for data in stores:\n",
    "    dfNew = pandas.DataFrame(data).T\n",
    "    df = pandas.concat([df,dfNew])\n",
    "\n",
    "Employeedf = df\n",
    "Employeedf.reset_index(drop=True, inplace=True)\n"
   ]
  },
  {
   "cell_type": "markdown",
   "metadata": {},
   "source": [
    "### Product"
   ]
  },
  {
   "cell_type": "code",
   "execution_count": 83,
   "metadata": {},
   "outputs": [],
   "source": [
    "generateData = \"genData.json\"\n",
    "\n",
    "ROOT = os.path.dirname(os.getcwd()) + '/resource/' + generateData\n",
    "\n",
    "with open(ROOT, 'r') as file:\n",
    "    data = json.load(file)\n",
    "    data = data[\"Product\"]\n",
    "\n",
    "# get each stores employees\n",
    "product = []\n",
    "for products in data:\n",
    "    product.append(data[products])\n",
    "\n",
    "productDF = pandas.DataFrame.from_records(product).T\n",
    "\n",
    "productDF = productDF.rename(columns={0: 'Product', 1: 'Price'})\n",
    "\n",
    "productDF['productID'] = productDF.reset_index().index + 1\n"
   ]
  },
  {
   "cell_type": "markdown",
   "metadata": {},
   "source": [
    "### Full Table DF - Store"
   ]
  },
  {
   "cell_type": "code",
   "execution_count": 84,
   "metadata": {},
   "outputs": [],
   "source": [
    "# Generate random integers between 0 and 10 for each row\n",
    "random_counts = np.random.randint(0, 21, size=len(storeDf))\n",
    "# random_counts\n",
    "\n",
    "while storeDf.shape[0] < ROWCOUNT:\n",
    "    \n",
    "    # for each row number, count # of rows to add to df\n",
    "    for row, count in enumerate(random_counts):\n",
    "        \n",
    "        # checker to prevent concatenating an empty list,\n",
    "        if count > 0:\n",
    "        \n",
    "            # storeDf.concat([storeDf.loc[[i]] * count])\n",
    "            row_to_duplicate = storeDf.loc[[row]]\n",
    "\n",
    "            # Duplicate the row 2 times\n",
    "            duplicated_row = pandas.concat([row_to_duplicate] * count, ignore_index=True)\n",
    "\n",
    "            # Create a new DataFrame with the duplicated rows\n",
    "            storeDf = pandas.concat([storeDf, duplicated_row], ignore_index=True)\n",
    "\n",
    "# limit to 1000 rows\n",
    "storeDf = storeDf.iloc[:ROWCOUNT]"
   ]
  },
  {
   "cell_type": "markdown",
   "metadata": {},
   "source": [
    "### Full Table DF - Employee"
   ]
  },
  {
   "cell_type": "code",
   "execution_count": 85,
   "metadata": {},
   "outputs": [
    {
     "data": {
      "text/plain": [
       "array([ 0,  8, 20, 15, 19,  5, 12, 19,  1, 10, 15, 16,  9, 16])"
      ]
     },
     "execution_count": 85,
     "metadata": {},
     "output_type": "execute_result"
    }
   ],
   "source": [
    "# Generate random integers between 0 and 10 for each row\n",
    "random_counts = np.random.randint(0, 21, size=len(Employeedf))\n",
    "random_counts\n"
   ]
  },
  {
   "cell_type": "code",
   "execution_count": 86,
   "metadata": {},
   "outputs": [],
   "source": [
    "\n",
    "while Employeedf.shape[0] < ROWCOUNT:\n",
    "    \n",
    "    # for each row number, count # of rows to add to df\n",
    "    for row, count in enumerate(random_counts):\n",
    "        # storeDf.concat([storeDf.loc[[i]] * count])\n",
    "        \n",
    "        # checker to prevent concatenating an empty list,\n",
    "        if count > 0:\n",
    "                \n",
    "            row_to_duplicate = Employeedf.loc[[row]]\n",
    "\n",
    "            # Duplicate the row 2 times\n",
    "            duplicated_row = pandas.concat([row_to_duplicate] * count, ignore_index=True)\n",
    "\n",
    "            # Create a new DataFrame with the duplicated rows\n",
    "            Employeedf = pandas.concat([Employeedf, duplicated_row], ignore_index=True)\n",
    "\n",
    "# limit to 1000 rows\n",
    "Employeedf = Employeedf.iloc[:ROWCOUNT]"
   ]
  },
  {
   "cell_type": "code",
   "execution_count": 14,
   "metadata": {},
   "outputs": [],
   "source": []
  },
  {
   "cell_type": "code",
   "execution_count": 38,
   "metadata": {},
   "outputs": [],
   "source": []
  },
  {
   "cell_type": "markdown",
   "metadata": {},
   "source": [
    "# Full table Df - Product"
   ]
  },
  {
   "cell_type": "code",
   "execution_count": 87,
   "metadata": {},
   "outputs": [],
   "source": [
    "# Generate random integers between 0 and 10 for each row\n",
    "random_counts = np.random.randint(0, 21, size=len(productDF))\n",
    "random_counts\n",
    "\n",
    "\n",
    "while productDF.shape[0] < ROWCOUNT:\n",
    "    \n",
    "    # for each row number, count # of rows to add to df\n",
    "    for row, count in enumerate(random_counts):\n",
    "        \n",
    "        # checker to prevent concatenating an empty list,\n",
    "        if count > 0:\n",
    "                \n",
    "            # storeDf.concat([storeDf.loc[[i]] * count])\n",
    "            row_to_duplicate = productDF.loc[[row]]\n",
    "                \n",
    "            # Duplicate the row\n",
    "            duplicated_row = pandas.concat([row_to_duplicate] * count, ignore_index=True)\n",
    "            \n",
    "            # Create a new DataFrame with the duplicated rows\n",
    "            productDF = pandas.concat([productDF, duplicated_row], ignore_index=True)\n",
    "\n",
    "# limit to 1000 rows\n",
    "productDF = productDF.iloc[:ROWCOUNT]"
   ]
  },
  {
   "cell_type": "markdown",
   "metadata": {},
   "source": [
    "## Concat ALl Tables into 1 table"
   ]
  },
  {
   "cell_type": "code",
   "execution_count": 88,
   "metadata": {},
   "outputs": [],
   "source": [
    "fullTableDF = pandas.concat([customerDF,storeDf], axis=1)\n",
    "fullTableDF = pandas.concat([fullTableDF,Employeedf], axis=1)\n",
    "fullTableDF = pandas.concat([fullTableDF,productDF], axis=1)"
   ]
  },
  {
   "cell_type": "code",
   "execution_count": 105,
   "metadata": {},
   "outputs": [],
   "source": []
  },
  {
   "cell_type": "code",
   "execution_count": null,
   "metadata": {},
   "outputs": [],
   "source": []
  },
  {
   "cell_type": "code",
   "execution_count": 107,
   "metadata": {},
   "outputs": [],
   "source": [
    "# fullTableDF"
   ]
  },
  {
   "cell_type": "markdown",
   "metadata": {},
   "source": [
    "## GCP Push"
   ]
  },
  {
   "cell_type": "code",
   "execution_count": null,
   "metadata": {},
   "outputs": [],
   "source": []
  },
  {
   "cell_type": "code",
   "execution_count": null,
   "metadata": {},
   "outputs": [],
   "source": []
  }
 ],
 "metadata": {
  "kernelspec": {
   "display_name": "Python 3",
   "language": "python",
   "name": "python3"
  },
  "language_info": {
   "codemirror_mode": {
    "name": "ipython",
    "version": 3
   },
   "file_extension": ".py",
   "mimetype": "text/x-python",
   "name": "python",
   "nbconvert_exporter": "python",
   "pygments_lexer": "ipython3",
   "version": "3.9.6"
  }
 },
 "nbformat": 4,
 "nbformat_minor": 2
}
